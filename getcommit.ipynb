{
 "cells": [
  {
   "cell_type": "code",
   "execution_count": 3,
   "metadata": {},
   "outputs": [],
   "source": [
    "import requests\n",
    "import json\n",
    "import base64\n",
    "from tqdm.notebook import tqdm\n",
    "import pickle"
   ]
  },
  {
   "cell_type": "code",
   "execution_count": 8,
   "metadata": {},
   "outputs": [],
   "source": [
    "#変更されたファイルをバージョンがごとにまとめて出力\n",
    "#commit_set = [バージョン名, [ファイル名1, ファイル名2, ・・・]]\n",
    "#S_list : 変更があったファイルの一覧\n",
    "\n",
    "def commit_research(repository_url, client_id, client_secret, version_list):\n",
    "\n",
    "    commit_list = []\n",
    "    commit_set = []\n",
    "    S_list = []\n",
    "    \n",
    "    repository_url = repository_url.replace('.git', '/compare/{f}...{t}')\n",
    "    api = repository_url.replace('https://github.com/', 'https://api.github.com/repos/')\n",
    "    print('api : ' +  api)\n",
    "    \n",
    "    for i in range(len(version_list)-1):\n",
    "\n",
    "        #バージョンの決定\n",
    "        from_ver = version_list[i]\n",
    "        to_ver = version_list[i+1]\n",
    "        print('to_ver : ' + to_ver)\n",
    "        \n",
    "        url = api.format(f=from_ver, t=to_ver)\n",
    "\n",
    "        r = requests.get(url,auth=(client_id, client_secret))\n",
    "        data = json.loads(r.text)\n",
    "\n",
    "        commit_list = []\n",
    "        \n",
    "        for j in range(len(data['commits'])):\n",
    "            url = data['commits'][j]['url']\n",
    "            r = requests.get(url,auth=(client_id, client_secret))\n",
    "            data2 = json.loads(r.text)\n",
    "\n",
    "            for k in range(len(data2['files'])):\n",
    "                filename = data2['files'][k]['filename']\n",
    "                commit_list.append(filename)\n",
    "                list(set(commit_list))\n",
    "                if filename not in S_list:\n",
    "                    S_list.append(filename)\n",
    "                \n",
    "        commit_list = list(set(commit_list))\n",
    "        commit_set.append([to_ver+'_',commit_list])\n",
    "\n",
    "        \n",
    "    return commit_set, S_list"
   ]
  },
  {
   "cell_type": "code",
   "execution_count": 9,
   "metadata": {},
   "outputs": [
    {
     "name": "stdout",
     "output_type": "stream",
     "text": [
      "api : https://api.github.com/repos/apache/tomcat/compare/{f}...{t}\n",
      "to_ver : 8.5.1\n",
      "to_ver : 8.5.2\n",
      "to_ver : 8.5.3\n",
      "to_ver : 8.5.4\n",
      "to_ver : 8.5.5\n",
      "to_ver : 8.5.6\n",
      "to_ver : 8.5.7\n",
      "to_ver : 8.5.8\n",
      "to_ver : 8.5.9\n",
      "to_ver : 8.5.10\n",
      "to_ver : 8.5.11\n",
      "to_ver : 8.5.12\n",
      "to_ver : 8.5.13\n",
      "to_ver : 8.5.14\n",
      "to_ver : 8.5.15\n",
      "to_ver : 8.5.16\n",
      "to_ver : 8.5.17\n",
      "to_ver : 8.5.18\n",
      "to_ver : 8.5.19\n",
      "to_ver : 8.5.20\n",
      "to_ver : 8.5.21\n",
      "to_ver : 8.5.22\n",
      "to_ver : 8.5.23\n",
      "to_ver : 8.5.24\n",
      "to_ver : 8.5.25\n",
      "to_ver : 8.5.26\n",
      "to_ver : 8.5.27\n",
      "to_ver : 8.5.28\n",
      "to_ver : 8.5.29\n",
      "to_ver : 8.5.30\n",
      "to_ver : 8.5.31\n",
      "to_ver : 8.5.32\n",
      "to_ver : 8.5.33\n",
      "to_ver : 8.5.34\n",
      "to_ver : 8.5.35\n",
      "to_ver : 8.5.36\n",
      "to_ver : 8.5.37\n",
      "to_ver : 8.5.38\n",
      "to_ver : 8.5.39\n",
      "to_ver : 8.5.40\n",
      "to_ver : 8.5.41\n",
      "to_ver : 8.5.42\n",
      "to_ver : 8.5.43\n"
     ]
    }
   ],
   "source": [
    "# モジュールインポート\n",
    "\n",
    "#リポジトリ指定\n",
    "repository_url = 'https://github.com/apache/tomcat.git'\n",
    "client_id = 'ed610b1e022dbc51c7f8'\n",
    "client_secret = '6d9aac220c7af89abef64524bd15c25d1d8855e5'\n",
    "\n",
    "#バージョン\n",
    "version = []\n",
    "for i in range(44):\n",
    "    version.append('8.5.' + str(i))\n",
    "version\n",
    "\n",
    "commit_set, S_list = commit_research(repository_url, client_id, client_secret, version)\n",
    "#commit_set2, S_list2 = commit_research(repository_url, client_id, client_secret, ['8.5.42','8.5.43'])\n",
    "\n",
    "commit_set = {x[0]:set(x[1]) for x in commit_set}"
   ]
  },
  {
   "cell_type": "code",
   "execution_count": 11,
   "metadata": {},
   "outputs": [],
   "source": [
    "with open('commit_set.bin', 'wb') as f:\n",
    "    pickle.dump(commit_set, f)"
   ]
  },
  {
   "cell_type": "code",
   "execution_count": null,
   "metadata": {},
   "outputs": [],
   "source": []
  }
 ],
 "metadata": {
  "kernelspec": {
   "display_name": "Python 3",
   "language": "python",
   "name": "python3"
  },
  "language_info": {
   "codemirror_mode": {
    "name": "ipython",
    "version": 3
   },
   "file_extension": ".py",
   "mimetype": "text/x-python",
   "name": "python",
   "nbconvert_exporter": "python",
   "pygments_lexer": "ipython3",
   "version": "3.7.7"
  }
 },
 "nbformat": 4,
 "nbformat_minor": 4
}
