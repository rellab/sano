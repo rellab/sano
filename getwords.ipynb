{
 "cells": [
  {
   "cell_type": "code",
   "execution_count": 7,
   "metadata": {},
   "outputs": [],
   "source": [
    "import requests\n",
    "import json\n",
    "from bs4 import BeautifulSoup\n",
    "import re\n",
    "from sklearn.feature_extraction.text import CountVectorizer\n",
    "from sklearn.feature_extraction.text import TfidfVectorizer\n",
    "from sklearn.decomposition import LatentDirichletAllocation\n",
    "from sklearn.datasets import fetch_20newsgroups\n",
    "import numpy as np\n",
    "import pickle"
   ]
  },
  {
   "cell_type": "code",
   "execution_count": 2,
   "metadata": {},
   "outputs": [],
   "source": [
    "import nltk\n",
    "#nltk.download('all')"
   ]
  },
  {
   "cell_type": "code",
   "execution_count": 3,
   "metadata": {},
   "outputs": [],
   "source": [
    "def noun_stem_analyzer(string):\n",
    "    st = nltk.stem.lancaster.LancasterStemmer()\n",
    "    return [st.stem(word) for word, pos in nltk.pos_tag(\n",
    "        nltk.word_tokenize(string)) if pos == \"NN\" or pos == \"NNP\" or pos == \"JJ\"]"
   ]
  },
  {
   "cell_type": "code",
   "execution_count": 4,
   "metadata": {},
   "outputs": [],
   "source": [
    "r = requests.get('https://tomcat.apache.org/tomcat-8.5-doc/changelog.html')\n",
    "soup = BeautifulSoup(r.text , \"html.parser\")\n",
    "\n",
    "notes = [x for x in soup.find_all('div', class_='subsection')]\n",
    "labels = []\n",
    "versionstr = ''\n",
    "for x in [x.find('h4').get('id') for x in notes]:\n",
    "    v = re.search('Tomcat_([0-9\\._]+)', x)\n",
    "    if v:\n",
    "        versionstr = v.group(1) #re.findall('Tomcat_([0-9\\.]+)_.*/(.*)', x)[0][0]\n",
    "    labels.append([versionstr, x])\n",
    "items = {}\n",
    "for x in enumerate(notes):\n",
    "    uls = x[1].find_all('ul')\n",
    "    alllists = []\n",
    "    for v in uls:\n",
    "        for l in v.find_all('li'):\n",
    "            alllists.append(l.text)\n",
    "    version = labels[x[0]][0]\n",
    "    items[version] = items.get(version, []) + alllists"
   ]
  },
  {
   "cell_type": "code",
   "execution_count": 5,
   "metadata": {},
   "outputs": [],
   "source": [
    "wordset = {}\n",
    "for k,v in items.items():\n",
    "    wordset[k] = [set(noun_stem_analyzer(x)) for x in v]"
   ]
  },
  {
   "cell_type": "code",
   "execution_count": 8,
   "metadata": {},
   "outputs": [],
   "source": [
    "with open('word_set.bin', 'wb') as f:\n",
    "    pickle.dump(wordset, f)"
   ]
  },
  {
   "cell_type": "code",
   "execution_count": null,
   "metadata": {},
   "outputs": [],
   "source": []
  }
 ],
 "metadata": {
  "kernelspec": {
   "display_name": "sano",
   "language": "python",
   "name": "sano"
  },
  "language_info": {
   "codemirror_mode": {
    "name": "ipython",
    "version": 3
   },
   "file_extension": ".py",
   "mimetype": "text/x-python",
   "name": "python",
   "nbconvert_exporter": "python",
   "pygments_lexer": "ipython3",
   "version": "3.8.3"
  }
 },
 "nbformat": 4,
 "nbformat_minor": 4
}
